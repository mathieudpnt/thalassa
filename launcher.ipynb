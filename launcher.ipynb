{
 "cells": [
  {
   "cell_type": "code",
   "execution_count": 8,
   "metadata": {
    "ExecuteTime": {
     "end_time": "2024-04-08T14:39:10.537452Z",
     "start_time": "2024-04-08T14:39:10.528078Z"
    }
   },
   "outputs": [
    {
     "name": "stdout",
     "output_type": "stream",
     "text": [
      "Total storage space (TB): 40.0\n",
      "Used storage space (TB): 34.6\n",
      "-----------------------\n",
      "Available storage space (TB): 5.4\n"
     ]
    }
   ],
   "source": [
    "import os\n",
    "from pathlib import Path\n",
    "import glob\n",
    "import sys\n",
    "from OSmOSE import Job_builder\n",
    "from OSmOSE.utils import *\n",
    "\n",
    "path_osmose_dataset = \"/home/datawork-osmose/dataset/\"\n",
    "\n",
    "display_folder_storage_infos(path_osmose_dataset)"
   ]
  },
  {
   "cell_type": "code",
   "execution_count": 2,
   "metadata": {
    "ExecuteTime": {
     "end_time": "2024-04-08T13:58:43.818976Z",
     "start_time": "2024-04-08T13:58:43.370968Z"
    }
   },
   "outputs": [
    {
     "name": "stdout",
     "output_type": "stream",
     "text": [
      "Built datasets:\n",
      "  - campaign: SPM_AuralA -- dataset: 2010\n",
      "  - campaign: SPM_AuralA -- dataset: 201112\n",
      "  - campaign: CETIROISE -- dataset: A2\n",
      "  - campaign: CETIROISE -- dataset: A2_reshaped_60min\n",
      "  - campaign: APOCADO -- dataset: APOCADO_C1D1_ST336363566\n",
      "  - campaign: / -- dataset: APOCADO_C2D1_IROISE_07072022\n",
      "  - campaign: / -- dataset: APOCADO_C5D9_ST7181\n",
      "  - campaign: / -- dataset: APOCADO_C5D9_ST7194\n",
      "  - campaign: / -- dataset: APOCADO_C6D3_ST7178\n",
      "  - campaign: / -- dataset: APOCADO_C6D3_ST7180\n",
      "  - campaign: / -- dataset: APOCADO_C7D6_ST7189\n",
      "  - campaign: / -- dataset: APOCADO_training\n",
      "  - campaign: CETIROISE -- dataset: B1\n",
      "  - campaign: CETIROISE -- dataset: B1_reshaped_decimated\n",
      "  - campaign: / -- dataset: BlueFinLibrary_BallenyIslands2015\n",
      "  - campaign: / -- dataset: BlueFinLibrary_RossSea2014\n",
      "  - campaign: / -- dataset: BlueFinLibrary_casey2014\n",
      "  - campaign: / -- dataset: BlueFinLibrary_casey2017\n",
      "  - campaign: / -- dataset: BlueFinLibrary_kerguelen2014\n",
      "  - campaign: DELGOST -- dataset: DELGOST_090623_ST\n",
      "  - campaign: DELGOST -- dataset: DELGOST_090623_ST_reshaped_10sec\n",
      "  - campaign: CETIROISE -- dataset: F5_09082023_reshaped_10sec\n",
      "  - campaign: / -- dataset: MAHY_2022_2023\n",
      "  - campaign: / -- dataset: MIRACETI_2017_44100kHz\n",
      "  - campaign: / -- dataset: MIRACETI_2017_96000kHz\n",
      "  - campaign: / -- dataset: MIRACETI_2018_44100kHz\n",
      "  - campaign: / -- dataset: MIRACETI_2018_96000kHz\n",
      "  - campaign: / -- dataset: MIRACETI_2019_44100kHz\n",
      "  - campaign: / -- dataset: MIRACETI_2020_44100kHz\n",
      "  - campaign: / -- dataset: MIRACETI_2020_96000kHz\n",
      "  - campaign: / -- dataset: MIRACETI_2021_44100kHz\n",
      "  - campaign: / -- dataset: MIRACETI_2021_48000kHz\n",
      "  - campaign: / -- dataset: MIRACETI_2021_96000kHz\n",
      "  - campaign: / -- dataset: MIRACETI_2022_44100kHz\n",
      "  - campaign: / -- dataset: MIRACETI_2022_96000kHz\n",
      "  - campaign: / -- dataset: MIRACETI_2023_96000kHz\n",
      "  - campaign: / -- dataset: boussole_MERMAID\n",
      "  - campaign: / -- dataset: boussole_MERMAID_fin_whales\n",
      "  - campaign: / -- dataset: gliderSPAms_2\n",
      "  - campaign: / -- dataset: test\n"
     ]
    }
   ],
   "source": [
    "list_dataset(path_osmose_dataset, '')"
   ]
  },
  {
   "cell_type": "code",
   "execution_count": 3,
   "metadata": {
    "ExecuteTime": {
     "end_time": "2024-04-08T13:58:43.822808Z",
     "start_time": "2024-04-08T13:58:43.820440Z"
    }
   },
   "outputs": [],
   "source": [
    "list_dataset_name = [\"APOCADO_C1D1_ST336363566\"]\n",
    "\n",
    "list_campaign_name = [\"APOCADO\"] * len(list_dataset_name)"
   ]
  },
  {
   "cell_type": "code",
   "execution_count": 4,
   "metadata": {
    "ExecuteTime": {
     "end_time": "2024-04-08T13:58:43.869400Z",
     "start_time": "2024-04-08T13:58:43.827810Z"
    }
   },
   "outputs": [
    {
     "name": "stdout",
     "output_type": "stream",
     "text": [
      "\n",
      "Dataset : APOCADO/APOCADO_C1D1_ST336363566\n",
      "Available Resolution (LengthFile_samplerate) :\n",
      " 7199_144000\n",
      " 10_144000\n"
     ]
    }
   ],
   "source": [
    "for campaign_ID, dataset_ID in zip(list_campaign_name, list_dataset_name):\n",
    "    check_available_file_resolution(path_osmose_dataset, campaign_ID, dataset_ID)"
   ]
  },
  {
   "cell_type": "code",
   "execution_count": 5,
   "metadata": {
    "ExecuteTime": {
     "end_time": "2024-04-08T13:58:43.908567Z",
     "start_time": "2024-04-08T13:58:43.870779Z"
    }
   },
   "outputs": [],
   "source": [
    "dataset_resolution = '10_144000'\n",
    "\n",
    "batch_size = 500\n",
    "\n",
    "param_detect = {\n",
    "          \"model\": 3,\n",
    "          \"threshold\": 85,\n",
    "          \"ICI_max\": 0.25,\n",
    "          \"sum_peaks\": 8,\n",
    "          \"h_morph\": 115,\n",
    "          \"l_morph\": 1,\n",
    "          \"width_min\": 6,\n",
    "          \"f_min\": 20000,\n",
    "          \"f_max\": 288000,\n",
    "          \"output_image\": True,\n",
    "          }"
   ]
  },
  {
   "cell_type": "code",
   "execution_count": 6,
   "metadata": {
    "ExecuteTime": {
     "end_time": "2024-04-08T13:58:44.097098Z",
     "start_time": "2024-04-08T13:58:43.910243Z"
    }
   },
   "outputs": [
    {
     "name": "stdout",
     "output_type": "stream",
     "text": [
      "\n",
      "### APOCADO_C1D1_ST336363566 ###\n",
      " -number of wav files : 18000\n",
      " -batch size : 500\n",
      " -number of jobs : 36\n"
     ]
    }
   ],
   "source": [
    "for campaign_ID, dataset_ID in zip(list_campaign_name, list_dataset_name):\n",
    "    \n",
    "    print(f'\\n### {dataset_ID} ###', end='\\n')\n",
    "    \n",
    "    dataset_path = os.path.join(path_osmose_dataset, os.path.join(campaign_ID,dataset_ID))\n",
    "    data_path = os.path.join(dataset_path, 'data', 'audio', dataset_resolution)\n",
    "    wav_files = sorted(glob.glob(os.path.join(data_path, '**/*.wav'), recursive=True))\n",
    "    \n",
    "    batch_num = (len(wav_files) + batch_size - 1) // batch_size\n",
    "\n",
    "    print(f' -number of wav files : {len(wav_files)}')\n",
    "    print(f' -batch size : {batch_size}')\n",
    "    print(f' -number of jobs : {batch_num}')"
   ]
  },
  {
   "cell_type": "code",
   "execution_count": 7,
   "metadata": {
    "ExecuteTime": {
     "end_time": "2024-04-08T13:59:17.277718Z",
     "start_time": "2024-04-08T13:59:16.452118Z"
    }
   },
   "outputs": [
    {
     "name": "stdout",
     "output_type": "stream",
     "text": [
      "\n",
      "### APOCADO_C1D1_ST336363566 ###\n",
      "\n",
      "\tUTC offset: +02\n",
      "\tnumber of wav files : 18000\n",
      "\tbatch size : 500\n",
      "\tnumber of jobs : 36\n",
      "Sent command qsub /home/datawork-osmose/dataset/APOCADO/APOCADO_C1D1_ST336363566/processed/thalassa/log/batch_0_13-59-16_Torque_0.pbs\n",
      "Sent command qsub /home/datawork-osmose/dataset/APOCADO/APOCADO_C1D1_ST336363566/processed/thalassa/log/batch_1_13-59-16_Torque_1.pbs\n",
      "Sent command qsub /home/datawork-osmose/dataset/APOCADO/APOCADO_C1D1_ST336363566/processed/thalassa/log/batch_2_13-59-16_Torque_2.pbs\n",
      "Sent command qsub /home/datawork-osmose/dataset/APOCADO/APOCADO_C1D1_ST336363566/processed/thalassa/log/batch_3_13-59-16_Torque_3.pbs\n",
      "Sent command qsub /home/datawork-osmose/dataset/APOCADO/APOCADO_C1D1_ST336363566/processed/thalassa/log/batch_4_13-59-16_Torque_4.pbs\n",
      "Sent command qsub /home/datawork-osmose/dataset/APOCADO/APOCADO_C1D1_ST336363566/processed/thalassa/log/batch_5_13-59-16_Torque_5.pbs\n",
      "Sent command qsub /home/datawork-osmose/dataset/APOCADO/APOCADO_C1D1_ST336363566/processed/thalassa/log/batch_6_13-59-16_Torque_6.pbs\n",
      "Sent command qsub /home/datawork-osmose/dataset/APOCADO/APOCADO_C1D1_ST336363566/processed/thalassa/log/batch_7_13-59-16_Torque_7.pbs\n",
      "Sent command qsub /home/datawork-osmose/dataset/APOCADO/APOCADO_C1D1_ST336363566/processed/thalassa/log/batch_8_13-59-16_Torque_8.pbs\n",
      "Sent command qsub /home/datawork-osmose/dataset/APOCADO/APOCADO_C1D1_ST336363566/processed/thalassa/log/batch_9_13-59-16_Torque_9.pbs\n",
      "Sent command qsub /home/datawork-osmose/dataset/APOCADO/APOCADO_C1D1_ST336363566/processed/thalassa/log/batch_10_13-59-16_Torque_10.pbs\n",
      "Sent command qsub /home/datawork-osmose/dataset/APOCADO/APOCADO_C1D1_ST336363566/processed/thalassa/log/batch_11_13-59-16_Torque_11.pbs\n",
      "Sent command qsub /home/datawork-osmose/dataset/APOCADO/APOCADO_C1D1_ST336363566/processed/thalassa/log/batch_12_13-59-16_Torque_12.pbs\n",
      "Sent command qsub /home/datawork-osmose/dataset/APOCADO/APOCADO_C1D1_ST336363566/processed/thalassa/log/batch_13_13-59-16_Torque_13.pbs\n",
      "Sent command qsub /home/datawork-osmose/dataset/APOCADO/APOCADO_C1D1_ST336363566/processed/thalassa/log/batch_14_13-59-16_Torque_14.pbs\n",
      "Sent command qsub /home/datawork-osmose/dataset/APOCADO/APOCADO_C1D1_ST336363566/processed/thalassa/log/batch_15_13-59-16_Torque_15.pbs\n",
      "Sent command qsub /home/datawork-osmose/dataset/APOCADO/APOCADO_C1D1_ST336363566/processed/thalassa/log/batch_16_13-59-16_Torque_16.pbs\n",
      "Sent command qsub /home/datawork-osmose/dataset/APOCADO/APOCADO_C1D1_ST336363566/processed/thalassa/log/batch_17_13-59-16_Torque_17.pbs\n",
      "Sent command qsub /home/datawork-osmose/dataset/APOCADO/APOCADO_C1D1_ST336363566/processed/thalassa/log/batch_18_13-59-16_Torque_18.pbs\n",
      "Sent command qsub /home/datawork-osmose/dataset/APOCADO/APOCADO_C1D1_ST336363566/processed/thalassa/log/batch_19_13-59-16_Torque_19.pbs\n",
      "Sent command qsub /home/datawork-osmose/dataset/APOCADO/APOCADO_C1D1_ST336363566/processed/thalassa/log/batch_20_13-59-16_Torque_20.pbs\n",
      "Sent command qsub /home/datawork-osmose/dataset/APOCADO/APOCADO_C1D1_ST336363566/processed/thalassa/log/batch_21_13-59-16_Torque_21.pbs\n",
      "Sent command qsub /home/datawork-osmose/dataset/APOCADO/APOCADO_C1D1_ST336363566/processed/thalassa/log/batch_22_13-59-16_Torque_22.pbs\n",
      "Sent command qsub /home/datawork-osmose/dataset/APOCADO/APOCADO_C1D1_ST336363566/processed/thalassa/log/batch_23_13-59-16_Torque_23.pbs\n",
      "Sent command qsub /home/datawork-osmose/dataset/APOCADO/APOCADO_C1D1_ST336363566/processed/thalassa/log/batch_24_13-59-16_Torque_24.pbs\n",
      "Sent command qsub /home/datawork-osmose/dataset/APOCADO/APOCADO_C1D1_ST336363566/processed/thalassa/log/batch_25_13-59-17_Torque_25.pbs\n",
      "Sent command qsub /home/datawork-osmose/dataset/APOCADO/APOCADO_C1D1_ST336363566/processed/thalassa/log/batch_26_13-59-17_Torque_26.pbs\n",
      "Sent command qsub /home/datawork-osmose/dataset/APOCADO/APOCADO_C1D1_ST336363566/processed/thalassa/log/batch_27_13-59-17_Torque_27.pbs\n",
      "Sent command qsub /home/datawork-osmose/dataset/APOCADO/APOCADO_C1D1_ST336363566/processed/thalassa/log/batch_28_13-59-17_Torque_28.pbs\n",
      "Sent command qsub /home/datawork-osmose/dataset/APOCADO/APOCADO_C1D1_ST336363566/processed/thalassa/log/batch_29_13-59-17_Torque_29.pbs\n",
      "Sent command qsub /home/datawork-osmose/dataset/APOCADO/APOCADO_C1D1_ST336363566/processed/thalassa/log/batch_30_13-59-17_Torque_30.pbs\n",
      "Sent command qsub /home/datawork-osmose/dataset/APOCADO/APOCADO_C1D1_ST336363566/processed/thalassa/log/batch_31_13-59-17_Torque_31.pbs\n",
      "Sent command qsub /home/datawork-osmose/dataset/APOCADO/APOCADO_C1D1_ST336363566/processed/thalassa/log/batch_32_13-59-17_Torque_32.pbs\n",
      "Sent command qsub /home/datawork-osmose/dataset/APOCADO/APOCADO_C1D1_ST336363566/processed/thalassa/log/batch_33_13-59-17_Torque_33.pbs\n",
      "Sent command qsub /home/datawork-osmose/dataset/APOCADO/APOCADO_C1D1_ST336363566/processed/thalassa/log/batch_34_13-59-17_Torque_34.pbs\n",
      "Sent command qsub /home/datawork-osmose/dataset/APOCADO/APOCADO_C1D1_ST336363566/processed/thalassa/log/batch_35_13-59-17_Torque_35.pbs\n",
      "Sent command qsub -W depend=afterok:8979723.datarmor0:8979724.datarmor0:8979725.datarmor0:8979726.datarmor0:8979727.datarmor0:8979728.datarmor0:8979729.datarmor0:8979730.datarmor0:8979731.datarmor0:8979732.datarmor0:8979733.datarmor0:8979734.datarmor0:8979735.datarmor0:8979736.datarmor0:8979737.datarmor0:8979738.datarmor0:8979739.datarmor0:8979740.datarmor0:8979741.datarmor0:8979742.datarmor0:8979743.datarmor0:8979744.datarmor0:8979745.datarmor0:8979746.datarmor0:8979747.datarmor0:8979748.datarmor0:8979749.datarmor0:8979750.datarmor0:8979751.datarmor0:8979752.datarmor0:8979753.datarmor0:8979754.datarmor0:8979755.datarmor0:8979756.datarmor0:8979757.datarmor0:8979758.datarmor0 /home/datawork-osmose/dataset/APOCADO/APOCADO_C1D1_ST336363566/processed/thalassa/log/merge_csv_13-59-17_Torque_36.pbs\n"
     ]
    }
   ],
   "source": [
    "for campaign_ID, dataset_ID in zip(list_campaign_name, list_dataset_name):\n",
    "    \n",
    "    print(f'\\n### {dataset_ID} ###', end='\\n\\n')\n",
    "    \n",
    "    dataset_path = os.path.join(path_osmose_dataset, os.path.join(campaign_ID,dataset_ID))\n",
    "    data_path = os.path.join(dataset_path, 'data', 'audio', dataset_resolution)\n",
    "    wav_files = sorted(glob.glob(os.path.join(data_path, '**/*.wav'), recursive=True))\n",
    "    \n",
    "    metadata = os.path.join(data_path, 'metadata.csv')\n",
    "    with open(metadata, \"r\") as file:\n",
    "        lines = file.readlines()\n",
    "        if len(lines) == 2:\n",
    "            UTC_offset = lines[1].split(',')[4][-5:-2]\n",
    "            print(f'\\tUTC offset: {UTC_offset}')\n",
    "            \n",
    "    batch_num = (len(wav_files) + batch_size - 1) // batch_size\n",
    "\n",
    "    print(f'\\tnumber of wav files : {len(wav_files)}')\n",
    "    print(f'\\tbatch size : {batch_size}')\n",
    "    print(f'\\tnumber of jobs : {batch_num}')\n",
    "    \n",
    "    campaign_ID = str(False) if campaign_ID == '' else campaign_ID\n",
    "    param_all = [path_osmose_dataset,\n",
    "         campaign_ID,    \n",
    "         dataset_ID, \n",
    "         dataset_resolution, \n",
    "         UTC_offset,\n",
    "         str(len(wav_files)),\n",
    "         str(batch_size),\n",
    "         str(param_detect['model']),\n",
    "         str(param_detect['threshold']),\n",
    "         str(param_detect['ICI_max']),\n",
    "         str(param_detect['sum_peaks']),\n",
    "         str(param_detect['h_morph']),\n",
    "         str(param_detect['l_morph']),\n",
    "         str(param_detect['width_min']),\n",
    "         str(param_detect['f_min']),\n",
    "         str(param_detect['f_max']),\n",
    "         str(param_detect['output_image'])\n",
    "        ]\n",
    "    \n",
    "    # run thalassa script\n",
    "\n",
    "    ## log folder\n",
    "    logdir = os.path.join(dataset_path, 'processed', 'thalassa', 'log')\n",
    "    ## spectro folder\n",
    "    spectro_path = os.path.join(dataset_path, 'processed', 'thalassa', 'spectro')\n",
    "\n",
    "    if not os.path.exists(os.path.join(dataset_path, 'processed')):\n",
    "        os.mkdir(os.path.join(dataset_path, 'processed'))\n",
    "    if not os.path.exists(os.path.join(dataset_path, 'processed', 'thalassa')):\n",
    "        os.mkdir(os.path.join(dataset_path, 'processed', 'thalassa'))\n",
    "    if not os.path.exists(logdir):\n",
    "        os.mkdir(logdir)\n",
    "    if param_detect['output_image'] is True:\n",
    "        if not os.path.exists(spectro_path):\n",
    "            os.mkdir(spectro_path)\n",
    "\n",
    "    env_script = \". /appli/anaconda/latest/etc/profile.d/conda.sh; conda activate ${env_name}/\"\n",
    "    env_name = sys.executable.replace('bin/python', '')\n",
    "    script_name = os.path.abspath('./src/thalassa_main.py')\n",
    "    reshape_job_id_list = []\n",
    "\n",
    "    for batch_id in range(batch_num):\n",
    "\n",
    "        idx_begin = batch_id * batch_size\n",
    "        batch_wav = wav_files[idx_begin : idx_begin + batch_size]\n",
    "        script_args = f\"\"\"{batch_id} {' '.join(param_all)} {' '.join(batch_wav)}\"\"\"\n",
    "\n",
    "        jb = Job_builder()\n",
    "        jobfile = jb.build_job_file(\n",
    "                script_path=Path(script_name), \\\n",
    "                script_args=script_args,\n",
    "                preset=\"low\",\n",
    "                jobname=\"batch_\"+str(batch_id), \n",
    "                nodes=1,\n",
    "                ncpus=16,\n",
    "                queue='mpi_1',\n",
    "                env_script = env_script,\n",
    "                env_name=env_name,\n",
    "                mem=\"1gb\",\n",
    "                walltime=\"04:00:00\",\n",
    "                logdir=Path(logdir))\n",
    "\n",
    "        reshape_job_id_list += jb.submit_job(jobfile)\n",
    "\n",
    "    ## merge detection files aftewards\n",
    "    script_name = os.path.abspath('./src/merge_csv.py')\n",
    "    path_csv = os.path.join(dataset_path, 'processed', 'thalassa')\n",
    "    script_args = f'-i {path_csv} -n {dataset_ID}'\n",
    "\n",
    "    jb = Job_builder()\n",
    "    jb.build_job_file(\n",
    "        script_path=Path(script_name),\n",
    "        script_args=script_args,\n",
    "        jobname=\"merge_csv\",\n",
    "        preset=\"low\",\n",
    "        mem=\"1gb\",\n",
    "        walltime=\"00:30:00\",\n",
    "        logdir=Path(logdir),\n",
    "        env_script=env_script,\n",
    "        env_name=env_name\n",
    "    )            \n",
    "    job_id = jb.submit_job(dependency=reshape_job_id_list)\n",
    "\n",
    "    pending_jobs = job_id\n"
   ]
  }
 ],
 "metadata": {
  "kernelspec": {
   "display_name": "Python [conda env:osmose]",
   "language": "python",
   "name": "conda-env-osmose-py"
  },
  "language_info": {
   "codemirror_mode": {
    "name": "ipython",
    "version": 3
   },
   "file_extension": ".py",
   "mimetype": "text/x-python",
   "name": "python",
   "nbconvert_exporter": "python",
   "pygments_lexer": "ipython3",
   "version": "3.10.13"
  },
  "vscode": {
   "interpreter": {
    "hash": "038fb172a99c9b7ee7474e984b9ff4962ea47b0ef555bcc216ed798a8387f59b"
   }
  }
 },
 "nbformat": 4,
 "nbformat_minor": 4
}
